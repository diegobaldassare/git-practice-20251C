{
 "cells": [
  {
   "cell_type": "markdown",
   "id": "0102b533-d3f1-4879-a6e1-2c9ea2c5a5b6",
   "metadata": {},
   "source": [
    "\n",
    "# Historia de River PLate."
   ]
  },
  {
   "cell_type": "markdown",
   "id": "9acc4389-75f9-48ba-98ea-6a29c42ac49e",
   "metadata": {},
   "source": [
    "El Club Atlético River Plate fue fundado el **25** de mayo de **1901** en Buenos Aires, Argentina. A lo largo de su historia, se convirtió en uno de los clubes más exitosos del país y del continente.\n",
    "\n",
    "Desde sus inicios en el barrio de La Boca hasta su traslado a Núñez, River ha construido una identidad marcada por el fútbol ofensivo, la cantera de grandes jugadores y una rivalidad histórica con Boca Juniors.\n"
   ]
  },
  {
   "cell_type": "markdown",
   "id": "faafd806-fad3-42c5-a2b1-62bbcde486eb",
   "metadata": {},
   "source": [
    "### [Web del club](https://www.cariverplate.com.ar/)"
   ]
  },
  {
   "cell_type": "code",
   "execution_count": null,
   "id": "2230fb1c-cfd1-4551-b625-04c0950e86aa",
   "metadata": {},
   "outputs": [],
   "source": []
  }
 ],
 "metadata": {
  "kernelspec": {
   "display_name": "Python 3 (ipykernel)",
   "language": "python",
   "name": "python3"
  },
  "language_info": {
   "codemirror_mode": {
    "name": "ipython",
    "version": 3
   },
   "file_extension": ".py",
   "mimetype": "text/x-python",
   "name": "python",
   "nbconvert_exporter": "python",
   "pygments_lexer": "ipython3",
   "version": "3.13.2"
  }
 },
 "nbformat": 4,
 "nbformat_minor": 5
}
